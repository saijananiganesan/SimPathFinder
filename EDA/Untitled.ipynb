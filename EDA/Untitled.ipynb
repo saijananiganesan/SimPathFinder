{
 "cells": [
  {
   "cell_type": "code",
   "execution_count": 23,
   "metadata": {},
   "outputs": [
    {
     "name": "stdout",
     "output_type": "stream",
     "text": [
      "[0.01495732 0.         0.         0.         0.         0.02991464\n",
      " 0.02991464 0.04487196 0.04487196 0.0747866  0.08974392 0.11965855\n",
      " 0.19444515 0.17948783 0.29914639 0.26923175 0.3888903  0.37393298\n",
      " 0.37393298 0.67307937 0.53846349 0.73290864 0.70299401 0.70299401\n",
      " 0.89743916 0.8525672  0.86752452 0.76282328 0.64316473 0.65812205\n",
      " 0.67307937 0.52350617 0.55342081 0.4636769  0.4636769  0.26923175\n",
      " 0.44871958 0.14957319 0.22435979 0.19444515 0.10470123 0.10470123\n",
      " 0.10470123 0.04487196 0.         0.         0.02991464 0.01495732\n",
      " 0.01495732 0.01495732]\n",
      "[-1.73093633 -1.66407943 -1.59722253 -1.53036563 -1.46350873 -1.39665183\n",
      " -1.32979493 -1.26293803 -1.19608113 -1.12922423 -1.06236733 -0.99551042\n",
      " -0.92865352 -0.86179662 -0.79493972 -0.72808282 -0.66122592 -0.59436902\n",
      " -0.52751212 -0.46065522 -0.39379832 -0.32694142 -0.26008452 -0.19322762\n",
      " -0.12637072 -0.05951382  0.00734308  0.07419998  0.14105688  0.20791378\n",
      "  0.27477068  0.34162758  0.40848448  0.47534138  0.54219828  0.60905518\n",
      "  0.67591208  0.74276898  0.80962588  0.87648278  0.94333968  1.01019658\n",
      "  1.07705348  1.14391038  1.21076728  1.27762418  1.34448108  1.41133798\n",
      "  1.47819488  1.54505178  1.61190868]\n"
     ]
    },
    {
     "name": "stderr",
     "output_type": "stream",
     "text": [
      "BokehUserWarning: ColumnDataSource's columns must be of the same length. Current lengths: ('x', 26), ('y', 25)\n",
      "BokehUserWarning: ColumnDataSource's columns must be of the same length. Current lengths: ('x', 26), ('y', 25)\n",
      "BokehUserWarning: ColumnDataSource's columns must be of the same length. Current lengths: ('x', 26), ('y', 25)\n",
      "BokehUserWarning: ColumnDataSource's columns must be of the same length. Current lengths: ('x', 26), ('y', 25)\n"
     ]
    }
   ],
   "source": [
    "import numpy as np\n",
    "import scipy.special\n",
    "\n",
    "from bokeh.layouts import gridplot\n",
    "from bokeh.plotting import figure, output_file, show\n",
    "\n",
    "\n",
    "def make_plot(title, hist, edges, hist_l,edges_l,hist2, edges2,hist2_l,edges2_l):\n",
    "    p = figure(title=title, tools='', background_fill_color=\"#fafafa\")\n",
    "    p.quad(top=hist, bottom=0, left=edges[:-1], right=edges[1:],\n",
    "           fill_color=\"navy\", line_color=\"white\", alpha=0.5)\n",
    "    p.line(edges_l, hist_l, line_color=\"#ff8888\", line_width=4, alpha=0.7, legend_label=\"PDF\")\n",
    "    p.quad(top=hist2, bottom=0, left=edges2[:-1], right=edges2[1:],\n",
    "           fill_color=\"pink\", line_color=\"white\", alpha=0.5)\n",
    "    p.line(edges2_l, hist2_l, line_color=\"#ff8888\", line_width=4, alpha=0.7)\n",
    "\n",
    "   # p.line(x, cdf, line_color=\"orange\", line_width=2, alpha=0.7, legend_label=\"CDF\")\n",
    "\n",
    "    p.y_range.start = 0\n",
    "    p.legend.location = \"center_right\"\n",
    "    p.legend.background_fill_color = \"#fefefe\"\n",
    "    p.xaxis.axis_label = 'x'\n",
    "    p.yaxis.axis_label = 'Pr(x)'\n",
    "    p.grid.grid_line_color=\"white\"\n",
    "    return p\n",
    "\n",
    "# Normal Distribution\n",
    "\n",
    "mu, sigma = 0, 0.5\n",
    "measured = np.random.normal(mu, sigma, 1000)\n",
    "hist, edges = np.histogram(measured, density=True, bins=50)\n",
    "hist_l, edges_l = np.histogram(measured, density=True, bins=25)\n",
    "hist2, edges2 = np.histogram(measured, density=True, bins=50)\n",
    "hist2_l, edges2_l = np.histogram(measured, density=True, bins=25)\n",
    "\n",
    "print (hist)\n",
    "print (edges)\n",
    "x = np.linspace(-2, 2, 1000)\n",
    "pdf = 1/(sigma * np.sqrt(2*np.pi)) * np.exp(-(x-mu)**2 / (2*sigma**2))\n",
    "cdf = (1+scipy.special.erf((x-mu)/np.sqrt(2*sigma**2)))/2\n",
    "\n",
    "p1 = make_plot(\"Normal Distribution (μ=0, σ=0.5)\", hist, edges,hist_l,edges_l,\n",
    "                       hist2, edges2,hist2_l,edges2_l   )\n",
    "\n",
    "p2 = make_plot(\"Normal Distribution (μ=0, σ=0.5)\", hist, edges,hist_l,edges_l,\n",
    "                       hist2, edges2,hist2_l,edges2_l   )\n",
    "\n",
    "# Log-Normal Distribution\n",
    "\n",
    "output_file('histogram.html', title=\"histogram.py example\")\n",
    "\n",
    "show(gridplot([p1,p2], ncols=2, plot_width=400, plot_height=400, toolbar_location=None))\n"
   ]
  },
  {
   "cell_type": "code",
   "execution_count": 40,
   "metadata": {},
   "outputs": [],
   "source": [
    "from bokeh.io import output_file, show\n",
    "from bokeh.models import ColumnDataSource, FactorRange\n",
    "from bokeh.plotting import figure\n",
    "from bokeh.layouts import gridplot\n",
    "from bokeh.models import ColumnDataSource, LabelSet\n",
    "\n",
    "#output_file(\"bar_stacked_grouped.html\")\n",
    "\n",
    "factors = [\n",
    "    (\"DSS\", \"Inter\"), (\"DSS\", \"Intra\"),\n",
    "    (\"EDC\", \"Inter\"), (\"EDC\", \"Intra\"),]\n",
    "\n",
    "regions = ['Satisfied', 'Violated']\n",
    "\n",
    "source = ColumnDataSource(data=dict(\n",
    "    x=factors,\n",
    "    Satisfied=[5,5,7,7],\n",
    "    Violated=[ 1,1,3,3],\n",
    "))\n",
    "\n",
    "p = figure(x_range=FactorRange(*factors), plot_height=250,\n",
    "           toolbar_location=None, tools=\"\")\n",
    "\n",
    "p.vbar_stack(regions, x='x', width=0.9, alpha=0.5, color=[\"blue\", \"red\"], source=source,\n",
    "             legend_label=regions)\n",
    "\n",
    "p1 = figure(x_range=FactorRange(*factors), plot_height=250,\n",
    "           toolbar_location=None, tools=\"\")\n",
    "\n",
    "p1.vbar_stack(regions, x='x', width=0.9, alpha=0.5, color=[\"blue\", \"red\"], source=source,\n",
    "             legend_label=regions)\n",
    "\n",
    "p.y_range.start = 0\n",
    "p.y_range.end = 18\n",
    "p.x_range.range_padding = 0.1\n",
    "p.xaxis.major_label_orientation = 1\n",
    "p.xaxis.major_label_text_font_size='14pt'\n",
    "p.xaxis.axis_label_text_font_size='14pt'\n",
    "\n",
    "p.xgrid.grid_line_color = None\n",
    "p.legend.location = \"top_center\"\n",
    "p.legend.orientation = \"horizontal\"\n",
    "p.axis.axis_label_text_font_style = 'bold'\n",
    "\n",
    "#show(p)\n",
    "show(gridplot([p,p1], ncols=2, plot_width=400, plot_height=400, toolbar_location=None))\n",
    "\n"
   ]
  },
  {
   "cell_type": "code",
   "execution_count": 18,
   "metadata": {},
   "outputs": [
    {
     "data": {
      "text/plain": [
       "[('Q1', 'jan'),\n",
       " ('Q1', 'feb'),\n",
       " ('Q1', 'mar'),\n",
       " ('Q2', 'apr'),\n",
       " ('Q2', 'may'),\n",
       " ('Q2', 'jun'),\n",
       " ('Q3', 'jul'),\n",
       " ('Q3', 'aug'),\n",
       " ('Q3', 'sep'),\n",
       " ('Q4', 'oct'),\n",
       " ('Q4', 'nov'),\n",
       " ('Q4', 'dec')]"
      ]
     },
     "execution_count": 18,
     "metadata": {},
     "output_type": "execute_result"
    }
   ],
   "source": [
    "factors"
   ]
  },
  {
   "cell_type": "code",
   "execution_count": null,
   "metadata": {},
   "outputs": [],
   "source": [
    "Write a function rev_string(my_str) that uses a stack to reverse the characters in a string.\n",
    "\n"
   ]
  }
 ],
 "metadata": {
  "kernelspec": {
   "display_name": "Python 3",
   "language": "python",
   "name": "python3"
  },
  "language_info": {
   "codemirror_mode": {
    "name": "ipython",
    "version": 3
   },
   "file_extension": ".py",
   "mimetype": "text/x-python",
   "name": "python",
   "nbconvert_exporter": "python",
   "pygments_lexer": "ipython3",
   "version": "3.6.10"
  }
 },
 "nbformat": 4,
 "nbformat_minor": 4
}
